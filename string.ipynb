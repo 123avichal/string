{
 "cells": [
  {
   "cell_type": "code",
   "execution_count": 12,
   "id": "260fb041-48b9-4567-b987-d32bb4ed366b",
   "metadata": {},
   "outputs": [],
   "source": [
    "#Q1\n",
    "a = 'avichal'"
   ]
  },
  {
   "cell_type": "code",
   "execution_count": 13,
   "id": "b4f01afa-379c-4692-a97a-a94bfa2ede23",
   "metadata": {},
   "outputs": [
    {
     "data": {
      "text/plain": [
       "'avichal'"
      ]
     },
     "execution_count": 13,
     "metadata": {},
     "output_type": "execute_result"
    }
   ],
   "source": [
    "a"
   ]
  },
  {
   "cell_type": "code",
   "execution_count": 17,
   "id": "5cb90789-a560-40b6-a9a1-0ec598fd021c",
   "metadata": {},
   "outputs": [],
   "source": [
    "#Q2 \n",
    "# x is char type variable because str type variable can not store any value or data\n",
    "x='a'"
   ]
  },
  {
   "cell_type": "code",
   "execution_count": 18,
   "id": "67ecfabf-d0fb-4af0-8509-778dac2733af",
   "metadata": {},
   "outputs": [],
   "source": [
    "# Q3\n",
    "s = 'welcome to python foundation course'"
   ]
  },
  {
   "cell_type": "code",
   "execution_count": 26,
   "id": "84c60be6-847d-4f82-820d-846aab75bf46",
   "metadata": {},
   "outputs": [
    {
     "data": {
      "text/plain": [
       "8"
      ]
     },
     "execution_count": 26,
     "metadata": {},
     "output_type": "execute_result"
    }
   ],
   "source": [
    "s.find('to')"
   ]
  },
  {
   "cell_type": "code",
   "execution_count": 29,
   "id": "384ec858-aeba-4e65-a34b-645237763168",
   "metadata": {},
   "outputs": [
    {
     "data": {
      "text/plain": [
       "2"
      ]
     },
     "execution_count": 29,
     "metadata": {},
     "output_type": "execute_result"
    }
   ],
   "source": [
    "s.count('c')"
   ]
  },
  {
   "cell_type": "code",
   "execution_count": 30,
   "id": "abdae0b9-14a1-4573-a1f6-b5a78a4867c5",
   "metadata": {},
   "outputs": [
    {
     "data": {
      "text/plain": [
       "35"
      ]
     },
     "execution_count": 30,
     "metadata": {},
     "output_type": "execute_result"
    }
   ],
   "source": [
    "len(s)"
   ]
  },
  {
   "cell_type": "code",
   "execution_count": 31,
   "id": "9412001b-ddd4-40e9-8747-1787d3c8a751",
   "metadata": {},
   "outputs": [],
   "source": [
    "s1 = 'Avichal'"
   ]
  },
  {
   "cell_type": "code",
   "execution_count": 32,
   "id": "6692e1d7-f13f-470f-9f10-02575864d2a1",
   "metadata": {},
   "outputs": [
    {
     "data": {
      "text/plain": [
       "'welcome to python foundation courseAvichal'"
      ]
     },
     "execution_count": 32,
     "metadata": {},
     "output_type": "execute_result"
    }
   ],
   "source": [
    "s+s1"
   ]
  },
  {
   "cell_type": "code",
   "execution_count": 1,
   "id": "a2f6f012-81e5-4391-9ddc-a486be33380b",
   "metadata": {},
   "outputs": [],
   "source": [
    "#Q4\n",
    "a = 'Panaji@12256'"
   ]
  },
  {
   "cell_type": "code",
   "execution_count": 3,
   "id": "c267fece-d62c-49f3-97db-02fb2c376a1f",
   "metadata": {},
   "outputs": [
    {
     "data": {
      "text/plain": [
       "'panaji@12256'"
      ]
     },
     "execution_count": 3,
     "metadata": {},
     "output_type": "execute_result"
    }
   ],
   "source": [
    "a.lower()"
   ]
  },
  {
   "cell_type": "code",
   "execution_count": 6,
   "id": "958b6d21-2103-4cb4-b573-398f528bd643",
   "metadata": {},
   "outputs": [
    {
     "data": {
      "text/plain": [
       "'PANAJI@12256'"
      ]
     },
     "execution_count": 6,
     "metadata": {},
     "output_type": "execute_result"
    }
   ],
   "source": [
    "a.upper()"
   ]
  },
  {
   "cell_type": "code",
   "execution_count": 14,
   "id": "c1127e6b-7117-4335-b1d9-d3fa28f1f2ac",
   "metadata": {},
   "outputs": [
    {
     "ename": "IndentationError",
     "evalue": "unexpected indent (1610757705.py, line 2)",
     "output_type": "error",
     "traceback": [
      "\u001b[0;36m  Cell \u001b[0;32mIn[14], line 2\u001b[0;36m\u001b[0m\n\u001b[0;31m    b= 1234\u001b[0m\n\u001b[0m    ^\u001b[0m\n\u001b[0;31mIndentationError\u001b[0m\u001b[0;31m:\u001b[0m unexpected indent\n"
     ]
    }
   ],
   "source": [
    "#Q4\n",
    " b= 1234"
   ]
  },
  {
   "cell_type": "code",
   "execution_count": null,
   "id": "f6164455-5d83-460b-aff9-2ae5c7816378",
   "metadata": {},
   "outputs": [],
   "source": []
  }
 ],
 "metadata": {
  "kernelspec": {
   "display_name": "Python 3 (ipykernel)",
   "language": "python",
   "name": "python3"
  },
  "language_info": {
   "codemirror_mode": {
    "name": "ipython",
    "version": 3
   },
   "file_extension": ".py",
   "mimetype": "text/x-python",
   "name": "python",
   "nbconvert_exporter": "python",
   "pygments_lexer": "ipython3",
   "version": "3.10.8"
  }
 },
 "nbformat": 4,
 "nbformat_minor": 5
}
